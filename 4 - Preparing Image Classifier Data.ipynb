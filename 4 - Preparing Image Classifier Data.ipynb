{
 "cells": [
  {
   "cell_type": "markdown",
   "id": "fb21f7b0",
   "metadata": {},
   "source": [
    "# Preparing Image Classifier Data\n",
    "_Author: Nathan Robertson_\n",
    "\n",
    "It's time to gather my training dataset together and prepare it for a Convolutional Neural Network (CNN).\n",
    "\n",
    "This notebook is going to prepare the training data, and then pickle it for another notebook. It's a fairly short notebook, but that is because I needed to partition the CNN notebook into a cloud-based notebook to get extra fire power for the specific task that my computer struggled to do locally (creating and training a CNN model).\n",
    "\n",
    "\n",
    "### Step 0: Import the necessary packages"
   ]
  },
  {
   "cell_type": "code",
   "execution_count": 1,
   "id": "821f381d",
   "metadata": {},
   "outputs": [],
   "source": [
    "# Standard data manipulation.\n",
    "import numpy as np\n",
    "import pandas as pd\n",
    "\n",
    "# Handling image extraction.\n",
    "from PIL import Image\n",
    "import requests\n",
    "from io import BytesIO\n",
    "import os\n",
    "import random\n",
    "\n",
    "# Progress tracking.\n",
    "from tqdm import tqdm"
   ]
  },
  {
   "cell_type": "markdown",
   "id": "d68f343b",
   "metadata": {},
   "source": [
    "# Step 1: Import the computer labeled data.\n",
    "\n",
    "I'll read in the data that came from the Azure->OpenAI workflow. "
   ]
  },
  {
   "cell_type": "code",
   "execution_count": 2,
   "id": "129d18fd",
   "metadata": {},
   "outputs": [],
   "source": [
    "# Read in CSVs.\n",
    "df1 = pd.read_csv('gpt_image_labels_v2_1.csv')\n",
    "df2 = pd.read_csv('gpt_image_labels_v2_2.csv')\n",
    "df3 = pd.read_csv('gpt_image_labels_v2_3.csv')\n",
    "df4 = pd.read_csv('gpt_image_labels_v2_4.csv')\n",
    "df5 = pd.read_csv('gpt_image_labels_v2_5.csv')\n",
    "df6 = pd.read_csv('gpt_image_labels_v2_6.csv')\n",
    "df7 = pd.read_csv('gpt_image_labels_v2_7.csv')\n",
    "df8 = pd.read_csv('gpt_image_labels_v2_8.csv')\n",
    "\n",
    "\n",
    "# Concatenate data.\n",
    "computer_labels = pd.concat([df1, df2, df3, df4, df5, df6, df7, df8])"
   ]
  },
  {
   "cell_type": "code",
   "execution_count": 3,
   "id": "df89a1aa",
   "metadata": {},
   "outputs": [
    {
     "data": {
      "text/html": [
       "<div>\n",
       "<style scoped>\n",
       "    .dataframe tbody tr th:only-of-type {\n",
       "        vertical-align: middle;\n",
       "    }\n",
       "\n",
       "    .dataframe tbody tr th {\n",
       "        vertical-align: top;\n",
       "    }\n",
       "\n",
       "    .dataframe thead th {\n",
       "        text-align: right;\n",
       "    }\n",
       "</style>\n",
       "<table border=\"1\" class=\"dataframe\">\n",
       "  <thead>\n",
       "    <tr style=\"text-align: right;\">\n",
       "      <th></th>\n",
       "      <th>zillowId</th>\n",
       "      <th>url</th>\n",
       "      <th>image_path</th>\n",
       "      <th>label</th>\n",
       "      <th>rank</th>\n",
       "      <th>gpt_description</th>\n",
       "      <th>azure_description</th>\n",
       "      <th>cost</th>\n",
       "      <th>completion_tokens</th>\n",
       "      <th>prompt_tokens</th>\n",
       "    </tr>\n",
       "  </thead>\n",
       "  <tbody>\n",
       "    <tr>\n",
       "      <th>0</th>\n",
       "      <td>2086148031</td>\n",
       "      <td>https://photos.zillowstatic.com/fp/d750d02b5c8...</td>\n",
       "      <td>data/labeled_images/2 - images/cc7Md6VTlIJgo5J...</td>\n",
       "      <td>Kitchen</td>\n",
       "      <td>8.0</td>\n",
       "      <td>This modern, spacious kitchen features high-qu...</td>\n",
       "      <td>{'modelVersion': '2023-10-01', 'captionResult'...</td>\n",
       "      <td>0.01033</td>\n",
       "      <td>80</td>\n",
       "      <td>793</td>\n",
       "    </tr>\n",
       "    <tr>\n",
       "      <th>1</th>\n",
       "      <td>85110763</td>\n",
       "      <td>https://photos.zillowstatic.com/fp/27dfb417e18...</td>\n",
       "      <td>data/labeled_images/2 - images/NGadHDR7DYCyozt...</td>\n",
       "      <td>Location Exterior</td>\n",
       "      <td>4.0</td>\n",
       "      <td>The exterior location in the image depicts a m...</td>\n",
       "      <td>{'modelVersion': '2023-10-01', 'captionResult'...</td>\n",
       "      <td>0.01030</td>\n",
       "      <td>83</td>\n",
       "      <td>781</td>\n",
       "    </tr>\n",
       "    <tr>\n",
       "      <th>2</th>\n",
       "      <td>2055874457</td>\n",
       "      <td>https://photos.zillowstatic.com/fp/1f802f39f73...</td>\n",
       "      <td>data/labeled_images/2 - images/5cWCNKp31aIHl96...</td>\n",
       "      <td>Living Room</td>\n",
       "      <td>6.0</td>\n",
       "      <td>The living room features neutral colors with a...</td>\n",
       "      <td>{'modelVersion': '2023-10-01', 'captionResult'...</td>\n",
       "      <td>0.01053</td>\n",
       "      <td>82</td>\n",
       "      <td>807</td>\n",
       "    </tr>\n",
       "    <tr>\n",
       "      <th>3</th>\n",
       "      <td>25862308</td>\n",
       "      <td>https://photos.zillowstatic.com/fp/96c8ef1085b...</td>\n",
       "      <td>data/labeled_images/2 - images/FArFwWvqv7LOqxh...</td>\n",
       "      <td>Kitchen</td>\n",
       "      <td>4.0</td>\n",
       "      <td>This kitchen has a dated appearance with older...</td>\n",
       "      <td>{'modelVersion': '2023-10-01', 'captionResult'...</td>\n",
       "      <td>0.01016</td>\n",
       "      <td>75</td>\n",
       "      <td>791</td>\n",
       "    </tr>\n",
       "    <tr>\n",
       "      <th>4</th>\n",
       "      <td>116359580</td>\n",
       "      <td>https://photos.zillowstatic.com/fp/e501b9ca6de...</td>\n",
       "      <td>data/labeled_images/2 - images/nwLoOiN80MbTwAV...</td>\n",
       "      <td>Location Exterior</td>\n",
       "      <td>7.0</td>\n",
       "      <td>The home in the picture showcases a serene, we...</td>\n",
       "      <td>{'modelVersion': '2023-10-01', 'captionResult'...</td>\n",
       "      <td>0.01039</td>\n",
       "      <td>78</td>\n",
       "      <td>805</td>\n",
       "    </tr>\n",
       "  </tbody>\n",
       "</table>\n",
       "</div>"
      ],
      "text/plain": [
       "     zillowId                                                url  \\\n",
       "0  2086148031  https://photos.zillowstatic.com/fp/d750d02b5c8...   \n",
       "1    85110763  https://photos.zillowstatic.com/fp/27dfb417e18...   \n",
       "2  2055874457  https://photos.zillowstatic.com/fp/1f802f39f73...   \n",
       "3    25862308  https://photos.zillowstatic.com/fp/96c8ef1085b...   \n",
       "4   116359580  https://photos.zillowstatic.com/fp/e501b9ca6de...   \n",
       "\n",
       "                                          image_path              label  rank  \\\n",
       "0  data/labeled_images/2 - images/cc7Md6VTlIJgo5J...            Kitchen   8.0   \n",
       "1  data/labeled_images/2 - images/NGadHDR7DYCyozt...  Location Exterior   4.0   \n",
       "2  data/labeled_images/2 - images/5cWCNKp31aIHl96...        Living Room   6.0   \n",
       "3  data/labeled_images/2 - images/FArFwWvqv7LOqxh...            Kitchen   4.0   \n",
       "4  data/labeled_images/2 - images/nwLoOiN80MbTwAV...  Location Exterior   7.0   \n",
       "\n",
       "                                     gpt_description  \\\n",
       "0  This modern, spacious kitchen features high-qu...   \n",
       "1  The exterior location in the image depicts a m...   \n",
       "2  The living room features neutral colors with a...   \n",
       "3  This kitchen has a dated appearance with older...   \n",
       "4  The home in the picture showcases a serene, we...   \n",
       "\n",
       "                                   azure_description     cost  \\\n",
       "0  {'modelVersion': '2023-10-01', 'captionResult'...  0.01033   \n",
       "1  {'modelVersion': '2023-10-01', 'captionResult'...  0.01030   \n",
       "2  {'modelVersion': '2023-10-01', 'captionResult'...  0.01053   \n",
       "3  {'modelVersion': '2023-10-01', 'captionResult'...  0.01016   \n",
       "4  {'modelVersion': '2023-10-01', 'captionResult'...  0.01039   \n",
       "\n",
       "   completion_tokens  prompt_tokens  \n",
       "0                 80            793  \n",
       "1                 83            781  \n",
       "2                 82            807  \n",
       "3                 75            791  \n",
       "4                 78            805  "
      ]
     },
     "execution_count": 3,
     "metadata": {},
     "output_type": "execute_result"
    }
   ],
   "source": [
    "# Take a look at data.\n",
    "computer_labels.head()"
   ]
  },
  {
   "cell_type": "markdown",
   "id": "141e4d03",
   "metadata": {},
   "source": [
    "# Step 2: Import the human labeled data.\n",
    "\n",
    "Some of the computer labeled data has been reviewed and corrected by me. I'll read in the output of those as well."
   ]
  },
  {
   "cell_type": "code",
   "execution_count": 4,
   "id": "da024b03",
   "metadata": {},
   "outputs": [],
   "source": [
    "# Read in CSVs.\n",
    "df1 = pd.read_csv('human_reviewed_gpt_labels.csv')\n",
    "df2 = pd.read_csv('human_reviewed_gpt_labels_v2_1.csv')\n",
    "\n",
    "# Concatenate data.\n",
    "human_labels = pd.concat([df1, df2])"
   ]
  },
  {
   "cell_type": "code",
   "execution_count": 5,
   "id": "425cd4e5",
   "metadata": {},
   "outputs": [],
   "source": [
    "# Drop unnecessary columns.\n",
    "human_labels = human_labels[['zillowId','human_label','human_rank']]"
   ]
  },
  {
   "cell_type": "code",
   "execution_count": 6,
   "id": "c44fb050",
   "metadata": {},
   "outputs": [
    {
     "data": {
      "text/html": [
       "<div>\n",
       "<style scoped>\n",
       "    .dataframe tbody tr th:only-of-type {\n",
       "        vertical-align: middle;\n",
       "    }\n",
       "\n",
       "    .dataframe tbody tr th {\n",
       "        vertical-align: top;\n",
       "    }\n",
       "\n",
       "    .dataframe thead th {\n",
       "        text-align: right;\n",
       "    }\n",
       "</style>\n",
       "<table border=\"1\" class=\"dataframe\">\n",
       "  <thead>\n",
       "    <tr style=\"text-align: right;\">\n",
       "      <th></th>\n",
       "      <th>zillowId</th>\n",
       "      <th>human_label</th>\n",
       "      <th>human_rank</th>\n",
       "    </tr>\n",
       "  </thead>\n",
       "  <tbody>\n",
       "    <tr>\n",
       "      <th>0</th>\n",
       "      <td>7.611019e+07</td>\n",
       "      <td>Bathroom</td>\n",
       "      <td>3.0</td>\n",
       "    </tr>\n",
       "    <tr>\n",
       "      <th>1</th>\n",
       "      <td>7.525196e+07</td>\n",
       "      <td>Bedroom</td>\n",
       "      <td>5.0</td>\n",
       "    </tr>\n",
       "    <tr>\n",
       "      <th>2</th>\n",
       "      <td>2.054614e+09</td>\n",
       "      <td>Bathroom</td>\n",
       "      <td>6.0</td>\n",
       "    </tr>\n",
       "    <tr>\n",
       "      <th>3</th>\n",
       "      <td>2.088943e+09</td>\n",
       "      <td>Location Exterior</td>\n",
       "      <td>8.0</td>\n",
       "    </tr>\n",
       "    <tr>\n",
       "      <th>4</th>\n",
       "      <td>2.053624e+09</td>\n",
       "      <td>Location Exterior</td>\n",
       "      <td>7.0</td>\n",
       "    </tr>\n",
       "  </tbody>\n",
       "</table>\n",
       "</div>"
      ],
      "text/plain": [
       "       zillowId        human_label  human_rank\n",
       "0  7.611019e+07           Bathroom         3.0\n",
       "1  7.525196e+07            Bedroom         5.0\n",
       "2  2.054614e+09           Bathroom         6.0\n",
       "3  2.088943e+09  Location Exterior         8.0\n",
       "4  2.053624e+09  Location Exterior         7.0"
      ]
     },
     "execution_count": 6,
     "metadata": {},
     "output_type": "execute_result"
    }
   ],
   "source": [
    "# Take a look at data.\n",
    "human_labels.head()"
   ]
  },
  {
   "cell_type": "code",
   "execution_count": 7,
   "id": "32b51c43",
   "metadata": {},
   "outputs": [],
   "source": [
    "labels = computer_labels.merge(human_labels, on='zillowId',how='left')"
   ]
  },
  {
   "cell_type": "code",
   "execution_count": 9,
   "id": "e5ddae1a",
   "metadata": {},
   "outputs": [
    {
     "name": "stderr",
     "output_type": "stream",
     "text": [
      "Resovling label conflicts...: 100%|██████████████| 76946/76946 [00:01<00:00, 75032.89it/s]\n"
     ]
    }
   ],
   "source": [
    "# Replace label / rank with human review where data provided. If absent,\n",
    "# just roll with the machine generated label.\n",
    "\n",
    "final_label = []\n",
    "final_rank = []\n",
    "\n",
    "for i, row in tqdm(labels.iterrows(), total=len(labels), desc='Resovling label conflicts...'):\n",
    "    if pd.notnull(row['human_label']):\n",
    "        final_label.append(row['human_label'])\n",
    "    else:\n",
    "        final_label.append(row['label'])\n",
    "        \n",
    "    if pd.notnull(row['human_rank']):\n",
    "        final_rank.append(row['human_rank'])\n",
    "    else:\n",
    "        final_rank.append(row['rank'])\n",
    "    \n",
    "\n",
    "labels.drop(columns=['cost','completion_tokens','prompt_tokens','label','rank','human_label','human_rank'],inplace=True)    \n",
    "\n",
    "labels['label'] = final_label\n",
    "labels['rank'] = final_rank"
   ]
  },
  {
   "cell_type": "code",
   "execution_count": 10,
   "id": "5c03de34",
   "metadata": {},
   "outputs": [
    {
     "data": {
      "text/html": [
       "<div>\n",
       "<style scoped>\n",
       "    .dataframe tbody tr th:only-of-type {\n",
       "        vertical-align: middle;\n",
       "    }\n",
       "\n",
       "    .dataframe tbody tr th {\n",
       "        vertical-align: top;\n",
       "    }\n",
       "\n",
       "    .dataframe thead th {\n",
       "        text-align: right;\n",
       "    }\n",
       "</style>\n",
       "<table border=\"1\" class=\"dataframe\">\n",
       "  <thead>\n",
       "    <tr style=\"text-align: right;\">\n",
       "      <th></th>\n",
       "      <th>zillowId</th>\n",
       "      <th>url</th>\n",
       "      <th>image_path</th>\n",
       "      <th>gpt_description</th>\n",
       "      <th>azure_description</th>\n",
       "      <th>label</th>\n",
       "      <th>rank</th>\n",
       "    </tr>\n",
       "  </thead>\n",
       "  <tbody>\n",
       "    <tr>\n",
       "      <th>0</th>\n",
       "      <td>2086148031</td>\n",
       "      <td>https://photos.zillowstatic.com/fp/d750d02b5c8...</td>\n",
       "      <td>data/labeled_images/2 - images/cc7Md6VTlIJgo5J...</td>\n",
       "      <td>This modern, spacious kitchen features high-qu...</td>\n",
       "      <td>{'modelVersion': '2023-10-01', 'captionResult'...</td>\n",
       "      <td>Kitchen</td>\n",
       "      <td>8.0</td>\n",
       "    </tr>\n",
       "    <tr>\n",
       "      <th>1</th>\n",
       "      <td>85110763</td>\n",
       "      <td>https://photos.zillowstatic.com/fp/27dfb417e18...</td>\n",
       "      <td>data/labeled_images/2 - images/NGadHDR7DYCyozt...</td>\n",
       "      <td>The exterior location in the image depicts a m...</td>\n",
       "      <td>{'modelVersion': '2023-10-01', 'captionResult'...</td>\n",
       "      <td>Location Exterior</td>\n",
       "      <td>3.0</td>\n",
       "    </tr>\n",
       "    <tr>\n",
       "      <th>2</th>\n",
       "      <td>2055874457</td>\n",
       "      <td>https://photos.zillowstatic.com/fp/1f802f39f73...</td>\n",
       "      <td>data/labeled_images/2 - images/5cWCNKp31aIHl96...</td>\n",
       "      <td>The living room features neutral colors with a...</td>\n",
       "      <td>{'modelVersion': '2023-10-01', 'captionResult'...</td>\n",
       "      <td>Living Room</td>\n",
       "      <td>6.0</td>\n",
       "    </tr>\n",
       "    <tr>\n",
       "      <th>3</th>\n",
       "      <td>25862308</td>\n",
       "      <td>https://photos.zillowstatic.com/fp/96c8ef1085b...</td>\n",
       "      <td>data/labeled_images/2 - images/FArFwWvqv7LOqxh...</td>\n",
       "      <td>This kitchen has a dated appearance with older...</td>\n",
       "      <td>{'modelVersion': '2023-10-01', 'captionResult'...</td>\n",
       "      <td>Kitchen</td>\n",
       "      <td>4.0</td>\n",
       "    </tr>\n",
       "    <tr>\n",
       "      <th>4</th>\n",
       "      <td>116359580</td>\n",
       "      <td>https://photos.zillowstatic.com/fp/e501b9ca6de...</td>\n",
       "      <td>data/labeled_images/2 - images/nwLoOiN80MbTwAV...</td>\n",
       "      <td>The home in the picture showcases a serene, we...</td>\n",
       "      <td>{'modelVersion': '2023-10-01', 'captionResult'...</td>\n",
       "      <td>Location Exterior</td>\n",
       "      <td>7.0</td>\n",
       "    </tr>\n",
       "  </tbody>\n",
       "</table>\n",
       "</div>"
      ],
      "text/plain": [
       "     zillowId                                                url  \\\n",
       "0  2086148031  https://photos.zillowstatic.com/fp/d750d02b5c8...   \n",
       "1    85110763  https://photos.zillowstatic.com/fp/27dfb417e18...   \n",
       "2  2055874457  https://photos.zillowstatic.com/fp/1f802f39f73...   \n",
       "3    25862308  https://photos.zillowstatic.com/fp/96c8ef1085b...   \n",
       "4   116359580  https://photos.zillowstatic.com/fp/e501b9ca6de...   \n",
       "\n",
       "                                          image_path  \\\n",
       "0  data/labeled_images/2 - images/cc7Md6VTlIJgo5J...   \n",
       "1  data/labeled_images/2 - images/NGadHDR7DYCyozt...   \n",
       "2  data/labeled_images/2 - images/5cWCNKp31aIHl96...   \n",
       "3  data/labeled_images/2 - images/FArFwWvqv7LOqxh...   \n",
       "4  data/labeled_images/2 - images/nwLoOiN80MbTwAV...   \n",
       "\n",
       "                                     gpt_description  \\\n",
       "0  This modern, spacious kitchen features high-qu...   \n",
       "1  The exterior location in the image depicts a m...   \n",
       "2  The living room features neutral colors with a...   \n",
       "3  This kitchen has a dated appearance with older...   \n",
       "4  The home in the picture showcases a serene, we...   \n",
       "\n",
       "                                   azure_description              label  rank  \n",
       "0  {'modelVersion': '2023-10-01', 'captionResult'...            Kitchen   8.0  \n",
       "1  {'modelVersion': '2023-10-01', 'captionResult'...  Location Exterior   3.0  \n",
       "2  {'modelVersion': '2023-10-01', 'captionResult'...        Living Room   6.0  \n",
       "3  {'modelVersion': '2023-10-01', 'captionResult'...            Kitchen   4.0  \n",
       "4  {'modelVersion': '2023-10-01', 'captionResult'...  Location Exterior   7.0  "
      ]
     },
     "execution_count": 10,
     "metadata": {},
     "output_type": "execute_result"
    }
   ],
   "source": [
    "# Print images.\n",
    "labels.head()"
   ]
  },
  {
   "cell_type": "code",
   "execution_count": 11,
   "id": "9fcbf59a",
   "metadata": {},
   "outputs": [
    {
     "data": {
      "text/plain": [
       "label\n",
       "Other                26141\n",
       "Location Exterior    21348\n",
       "Kitchen               8784\n",
       "Bathroom              7503\n",
       "Living Room           7218\n",
       "Bedroom               5952\n",
       "dtype: int64"
      ]
     },
     "execution_count": 11,
     "metadata": {},
     "output_type": "execute_result"
    }
   ],
   "source": [
    "# Check images by room type.\n",
    "labels.groupby(['label']).size().sort_values(ascending=False)"
   ]
  },
  {
   "cell_type": "code",
   "execution_count": 12,
   "id": "d837109a",
   "metadata": {},
   "outputs": [
    {
     "data": {
      "text/plain": [
       "rank\n",
       "7.0     17644\n",
       "8.0      6363\n",
       "4.0      5920\n",
       "5.0      5555\n",
       "6.0      5406\n",
       "3.0      4728\n",
       "9.0      4079\n",
       "2.0      1022\n",
       "1.0       194\n",
       "10.0       16\n",
       "dtype: int64"
      ]
     },
     "execution_count": 12,
     "metadata": {},
     "output_type": "execute_result"
    }
   ],
   "source": [
    "# Check images by rank image.\n",
    "labels.groupby(['rank']).size().sort_values(ascending=False)"
   ]
  },
  {
   "cell_type": "markdown",
   "id": "a6bd5558-7603-4cd3-917e-89d72ea8b468",
   "metadata": {},
   "source": [
    "Some of the images came out with null ranking data. We'll drop those (but keep the \"Other\" -- those are expected to have no ranking data)."
   ]
  },
  {
   "cell_type": "code",
   "execution_count": 13,
   "id": "95439079",
   "metadata": {},
   "outputs": [
    {
     "name": "stdout",
     "output_type": "stream",
     "text": [
      "Null Labels: 0; Null Ranks: 21\n"
     ]
    }
   ],
   "source": [
    "null_labels = len(labels[labels['label'].isnull()])\n",
    "null_ranks = len(labels[(labels['rank'].isnull()) & (labels['label']!='Other')])\n",
    "\n",
    "print(f'Null Labels: {null_labels}; Null Ranks: {null_ranks}')"
   ]
  },
  {
   "cell_type": "code",
   "execution_count": 14,
   "id": "c05e7d75",
   "metadata": {},
   "outputs": [],
   "source": [
    "mask = (labels['label']!='Other') & (labels['rank'].isnull())\n",
    "labels = labels[~mask]"
   ]
  },
  {
   "cell_type": "code",
   "execution_count": 15,
   "id": "4132b2ce",
   "metadata": {},
   "outputs": [
    {
     "name": "stdout",
     "output_type": "stream",
     "text": [
      "Null Labels: 0; Null Ranks: 0\n"
     ]
    }
   ],
   "source": [
    "null_labels = len(labels[labels['label'].isnull()])\n",
    "null_ranks = len(labels[(labels['rank'].isnull()) & (labels['label']!='Other')])\n",
    "\n",
    "print(f'Null Labels: {null_labels}; Null Ranks: {null_ranks}')"
   ]
  },
  {
   "cell_type": "code",
   "execution_count": 21,
   "id": "3dfabe56",
   "metadata": {},
   "outputs": [],
   "source": [
    "def image_array():\n",
    "    \n",
    "    images = []\n",
    "    paths = []\n",
    "    \n",
    "    for i, row in tqdm(labels.iterrows(), total=len(labels), desc=\"Converting images to arrays...\"):\n",
    "        try:\n",
    "            img = Image.open(row['image_path']) \n",
    "\n",
    "            if img is not None:\n",
    "                images.append(np.array(img))\n",
    "                paths.append(row['image_path'])\n",
    "        except:\n",
    "            pass\n",
    "    \n",
    "    return images, paths\n",
    "        \n",
    "        "
   ]
  },
  {
   "cell_type": "code",
   "execution_count": 22,
   "id": "514fbc96",
   "metadata": {},
   "outputs": [
    {
     "name": "stderr",
     "output_type": "stream",
     "text": [
      "Converting images to arrays...: 100%|█████████████| 76925/76925 [00:59<00:00, 1285.15it/s]\n"
     ]
    }
   ],
   "source": [
    "# Get photos and paths.\n",
    "photos, paths = image_array()"
   ]
  },
  {
   "cell_type": "code",
   "execution_count": 39,
   "id": "9a0e7812-f8d8-476a-9db8-8d711b9bde39",
   "metadata": {},
   "outputs": [
    {
     "data": {
      "text/plain": [
       "42490"
      ]
     },
     "execution_count": 39,
     "metadata": {},
     "output_type": "execute_result"
    }
   ],
   "source": [
    "len(photos)"
   ]
  },
  {
   "cell_type": "code",
   "execution_count": 23,
   "id": "cd4058d9",
   "metadata": {},
   "outputs": [],
   "source": [
    "# Get X / y data for training neural network.\n",
    "X = photos\n",
    "y = labels[labels['image_path'].isin(paths)]['label']"
   ]
  },
  {
   "cell_type": "code",
   "execution_count": 33,
   "id": "812a92bd",
   "metadata": {},
   "outputs": [
    {
     "data": {
      "image/png": "[encoded data removed]",
      "text/plain": [
       "<Figure size 640x480 with 1 Axes>"
      ]
     },
     "metadata": {},
     "output_type": "display_data"
    }
   ],
   "source": [
    "import matplotlib.pyplot as plt\n",
    "plt.imshow(X[0])\n",
    "plt.axis('off')  # Turn off axis\n",
    "plt.show()"
   ]
  },
  {
   "cell_type": "code",
   "execution_count": 34,
   "id": "fce8c44e",
   "metadata": {},
   "outputs": [
    {
     "data": {
      "text/plain": [
       "[array([[[220, 180, 129],\n",
       "         [220, 180, 129],\n",
       "         [221, 181, 130],\n",
       "         ...,\n",
       "         [106, 104,  89],\n",
       "         [104, 102,  87],\n",
       "         [104, 102,  87]],\n",
       " \n",
       "        [[222, 181, 130],\n",
       "         [222, 182, 130],\n",
       "         [223, 183, 131],\n",
       "         ...,\n",
       "         [108, 106,  91],\n",
       "         [108, 106,  91],\n",
       "         [105, 103,  88]],\n",
       " \n",
       "        [[224, 183, 131],\n",
       "         [225, 183, 132],\n",
       "         [225, 184, 132],\n",
       "         ...,\n",
       "         [109, 107,  92],\n",
       "         [108, 106,  91],\n",
       "         [110, 108,  93]],\n",
       " \n",
       "        ...,\n",
       " \n",
       "        [[  0,   0,   0],\n",
       "         [  0,   0,   0],\n",
       "         [  0,   0,   0],\n",
       "         ...,\n",
       "         [  0,   0,   0],\n",
       "         [  0,   0,   0],\n",
       "         [  0,   0,   0]],\n",
       " \n",
       "        [[  0,   0,   0],\n",
       "         [  0,   0,   0],\n",
       "         [  0,   0,   0],\n",
       "         ...,\n",
       "         [  0,   0,   0],\n",
       "         [  0,   0,   0],\n",
       "         [  0,   0,   0]],\n",
       " \n",
       "        [[  0,   0,   0],\n",
       "         [  0,   0,   0],\n",
       "         [  0,   0,   0],\n",
       "         ...,\n",
       "         [  0,   0,   0],\n",
       "         [  0,   0,   0],\n",
       "         [  0,   0,   0]]], dtype=uint8)]"
      ]
     },
     "execution_count": 34,
     "metadata": {},
     "output_type": "execute_result"
    }
   ],
   "source": [
    "X[:1]"
   ]
  },
  {
   "cell_type": "code",
   "execution_count": 35,
   "id": "ed7dfabb",
   "metadata": {},
   "outputs": [
    {
     "data": {
      "text/plain": [
       "34425          Living Room\n",
       "34426              Kitchen\n",
       "34427                Other\n",
       "34428              Bedroom\n",
       "34429    Location Exterior\n",
       "Name: label, dtype: object"
      ]
     },
     "execution_count": 35,
     "metadata": {},
     "output_type": "execute_result"
    }
   ],
   "source": [
    "y[:5]"
   ]
  },
  {
   "cell_type": "markdown",
   "id": "dee06d48-2a96-4d5f-a9fa-0c695d7d40af",
   "metadata": {},
   "source": [
    "Pick the data, and now it is good for the model."
   ]
  },
  {
   "cell_type": "code",
   "execution_count": 36,
   "id": "ffd467c9",
   "metadata": {},
   "outputs": [],
   "source": [
    "import pickle"
   ]
  },
  {
   "cell_type": "code",
   "execution_count": 37,
   "id": "19a4dd31",
   "metadata": {},
   "outputs": [],
   "source": [
    "# Save pandas Series\n",
    "with open('image_labels_X.npy', 'wb') as f:\n",
    "    pickle.dump(X, f)\n",
    "\n",
    "# Save NumPy array\n",
    "with open('image_labels_y.npy', 'wb') as f:\n",
    "    np.save(f, y)"
   ]
  },
  {
   "cell_type": "code",
   "execution_count": 38,
   "id": "314de3ab",
   "metadata": {},
   "outputs": [],
   "source": [
    "y = labels[labels['image_path'].isin(paths)]['rank']\n",
    "\n",
    "# Save NumPy array\n",
    "with open('image_ranks_y.npy', 'wb') as f:\n",
    "    np.save(f, y)"
   ]
  },
  {
   "cell_type": "code",
   "execution_count": 40,
   "id": "034e3a82-8c78-43d3-8be3-656dd93feec6",
   "metadata": {},
   "outputs": [
    {
     "data": {
      "text/plain": [
       "76925"
      ]
     },
     "execution_count": 40,
     "metadata": {},
     "output_type": "execute_result"
    }
   ],
   "source": [
    "len(labels)"
   ]
  },
  {
   "cell_type": "code",
   "execution_count": 41,
   "id": "8cc1601e-5ea7-446a-aed9-51bf93fad2df",
   "metadata": {},
   "outputs": [],
   "source": [
    "labels.to_csv('training_data_images.csv')"
   ]
  },
  {
   "cell_type": "code",
   "execution_count": null,
   "id": "71091969-67d0-4150-aed4-e8a73ce431de",
   "metadata": {},
   "outputs": [],
   "source": []
  }
 ],
 "metadata": {
  "kernelspec": {
   "display_name": "Python 3 (ipykernel)",
   "language": "python",
   "name": "python3"
  },
  "language_info": {
   "codemirror_mode": {
    "name": "ipython",
    "version": 3
   },
   "file_extension": ".py",
   "mimetype": "text/x-python",
   "name": "python",
   "nbconvert_exporter": "python",
   "pygments_lexer": "ipython3",
   "version": "3.12.4"
  }
 },
 "nbformat": 4,
 "nbformat_minor": 5
}
